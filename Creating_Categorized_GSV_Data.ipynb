{
 "cells": [
  {
   "cell_type": "code",
   "execution_count": 18,
   "metadata": {},
   "outputs": [
    {
     "ename": "FileExistsError",
     "evalue": "[WinError 183] Cannot create a file when that file already exists: 'F:/Low FFH_HR/dataset_folds_0/images/valid/'",
     "output_type": "error",
     "traceback": [
      "\u001b[1;31m---------------------------------------------------------------------------\u001b[0m",
      "\u001b[1;31mFileExistsError\u001b[0m                           Traceback (most recent call last)",
      "\u001b[1;32m<ipython-input-18-a56b475cff6b>\u001b[0m in \u001b[0;36m<module>\u001b[1;34m\u001b[0m\n\u001b[0;32m     30\u001b[0m     \u001b[0mnames\u001b[0m\u001b[1;33m.\u001b[0m\u001b[0mappend\u001b[0m\u001b[1;33m(\u001b[0m\u001b[0mset\u001b[0m\u001b[1;33m(\u001b[0m\u001b[0mimage_names\u001b[0m\u001b[1;33m)\u001b[0m\u001b[1;33m.\u001b[0m\u001b[0mintersection\u001b[0m\u001b[1;33m(\u001b[0m\u001b[0mclassified_images_names\u001b[0m\u001b[1;33m)\u001b[0m\u001b[1;33m)\u001b[0m\u001b[1;33m\u001b[0m\u001b[1;33m\u001b[0m\u001b[0m\n\u001b[0;32m     31\u001b[0m \u001b[1;33m\u001b[0m\u001b[0m\n\u001b[1;32m---> 32\u001b[1;33m     \u001b[0mos\u001b[0m\u001b[1;33m.\u001b[0m\u001b[0mmakedirs\u001b[0m\u001b[1;33m(\u001b[0m\u001b[1;34mf'F:/Low FFH_HR/dataset_folds_{i}/images/valid/'\u001b[0m\u001b[1;33m)\u001b[0m\u001b[1;33m\u001b[0m\u001b[1;33m\u001b[0m\u001b[0m\n\u001b[0m\u001b[0;32m     33\u001b[0m \u001b[1;33m\u001b[0m\u001b[0m\n\u001b[0;32m     34\u001b[0m     \u001b[1;32mfor\u001b[0m \u001b[0mn\u001b[0m \u001b[1;32min\u001b[0m \u001b[0mnames\u001b[0m\u001b[1;33m[\u001b[0m\u001b[1;33m-\u001b[0m\u001b[1;36m1\u001b[0m\u001b[1;33m]\u001b[0m\u001b[1;33m:\u001b[0m\u001b[1;33m\u001b[0m\u001b[1;33m\u001b[0m\u001b[0m\n",
      "\u001b[1;32m~\\.conda\\envs\\Py36\\lib\\os.py\u001b[0m in \u001b[0;36mmakedirs\u001b[1;34m(name, mode, exist_ok)\u001b[0m\n\u001b[0;32m    218\u001b[0m             \u001b[1;32mreturn\u001b[0m\u001b[1;33m\u001b[0m\u001b[1;33m\u001b[0m\u001b[0m\n\u001b[0;32m    219\u001b[0m     \u001b[1;32mtry\u001b[0m\u001b[1;33m:\u001b[0m\u001b[1;33m\u001b[0m\u001b[1;33m\u001b[0m\u001b[0m\n\u001b[1;32m--> 220\u001b[1;33m         \u001b[0mmkdir\u001b[0m\u001b[1;33m(\u001b[0m\u001b[0mname\u001b[0m\u001b[1;33m,\u001b[0m \u001b[0mmode\u001b[0m\u001b[1;33m)\u001b[0m\u001b[1;33m\u001b[0m\u001b[1;33m\u001b[0m\u001b[0m\n\u001b[0m\u001b[0;32m    221\u001b[0m     \u001b[1;32mexcept\u001b[0m \u001b[0mOSError\u001b[0m\u001b[1;33m:\u001b[0m\u001b[1;33m\u001b[0m\u001b[1;33m\u001b[0m\u001b[0m\n\u001b[0;32m    222\u001b[0m         \u001b[1;31m# Cannot rely on checking for EEXIST, since the operating system\u001b[0m\u001b[1;33m\u001b[0m\u001b[1;33m\u001b[0m\u001b[1;33m\u001b[0m\u001b[0m\n",
      "\u001b[1;31mFileExistsError\u001b[0m: [WinError 183] Cannot create a file when that file already exists: 'F:/Low FFH_HR/dataset_folds_0/images/valid/'"
     ]
    }
   ],
   "source": [
    "import os,glob,shutil\n",
    "\n",
    "nfolds=5\n",
    "\n",
    "image_names=[]\n",
    "\n",
    "classified_images_names=[]\n",
    "\n",
    "names=[]\n",
    "\n",
    "typee=['High','Medium','Low']\n",
    "\n",
    "    \n",
    "classified_images_full_path=glob.glob(f'F:/cross_validation_hampton_roads - Copy/Classified_Data/Low FFH/*.jpg')\n",
    "\n",
    "for jj in classified_images_full_path:\n",
    "        \n",
    "    classified_images_names.append(os.path.splitext(os.path.basename(jj))[0]) \n",
    "\n",
    "for i in range(nfolds):\n",
    "    \n",
    "    image_names=[]\n",
    "\n",
    "    images_full_path=glob.glob(f'F:/cross_validation_hampton_roads/dataset_folds_{i}/images/valid/*.jpg')\n",
    "\n",
    "    for j in images_full_path:\n",
    "\n",
    "        image_names.append(os.path.splitext(os.path.basename(j))[0])\n",
    "\n",
    "    names.append(set(image_names).intersection(classified_images_names))\n",
    "    \n",
    "    os.makedirs(f'F:/Low FFH_HR/dataset_folds_{i}/images/valid/')\n",
    "    \n",
    "    for n in names[-1]:\n",
    "    \n",
    "        shutil.copy(f'F:/cross_validation_hampton_roads/dataset_folds_{i}/images/valid/'+n+'.jpg',\\\n",
    "                       f'F:/Low FFH_HR/dataset_folds_{i}/images/valid/'+n+'.jpg')"
   ]
  },
  {
   "cell_type": "code",
   "execution_count": null,
   "metadata": {},
   "outputs": [],
   "source": [
    "print(names[0])"
   ]
  },
  {
   "cell_type": "code",
   "execution_count": null,
   "metadata": {},
   "outputs": [],
   "source": [
    "import pandas as pd\n",
    "\n",
    "import numpy as np\n",
    "\n",
    "# read the whole validation data\n",
    "\n",
    "#trca_gt=pd.read_excel('D:/GSV/BuildingInventory_wDamages FirstFloorHeight only - Copy.xlsx',usecols=['Address','height'])\n",
    "\n",
    "mine_gt=pd.read_csv('D:/GSV/TRCA_GTA_Most_Records/test_FFH - Copy2.csv')\n",
    "\n",
    "#mine_gt=pd.read_excel('D:/GSV/first_floor_height_3/first_floor_height_3/f3.xlsx')\n",
    "\n",
    "#hampton_gt=val_df=pd.read_csv('D:/GSV/Hampton_Roads_Elevation_Certificates_(NAVD_88).csv',sep=',',encoding= 'unicode_escape')\n",
    "\n",
    "mine_gt_address=[k.split('_jpg')[0] for k in list(mine_gt['Address'])]\n",
    "\n",
    "mine_gt_address=[kk.split('_')[0]   for kk in mine_gt_address]\n",
    "\n",
    "mine_gt_address=[kkk.replace('-', ' ')   for kkk in mine_gt_address]\n",
    "\n",
    "#mine_gt_address=[kkkk.replace(',', ' ')   for kkkk in mine_gt_address]\n",
    "\n",
    "for i,old_key,new_key in zip(range(len(list(mine_gt['Address']))),list(mine_gt['Address']),mine_gt_address):\n",
    " \n",
    "   mine_gt.loc[i,'Address']=new_key\n",
    "    \n",
    "#print(mine_gt['Address']) \n",
    "\n",
    "nfolds=5\n",
    "\n",
    "#for i in range(nfolds):\n",
    "\n",
    "    #FFH=pd.read_csv(f'D:/GSV/Initial_Results/FFH_TRCA_GTA_High_FFH_fold_{i}.csv')\n",
    "    \n",
    "    #FFH_address=[k.split('_')[0] for k in list(FFH['Unnamed: 0'])]\n",
    "    \n",
    "    #FFH_address=[kk.split('.jpg')[0] for kk in FFH_address]\n",
    "    \n",
    "    #for j,new_key in zip(range(len(list(FFH['Unnamed: 0']))),FFH_address):\n",
    "        \n",
    "        #FFH.loc[j,'Unnamed: 0']=new_key\n",
    "        \n",
    "    #FFH.to_csv(f'D:/GSV/Initial_Results/FFH_TRCA_GTA_High_FFH_fold_{i}.csv',index=False)        \n",
    "\n",
    "\n",
    "for i in range(nfolds):\n",
    "\n",
    "    FFH=pd.read_csv(f'D:/GSV/Initial_Results/FFH_TRCA_GTA_Low_FFH_fold_{i}.csv')\n",
    "\n",
    "    for j in list(FFH.iloc[:,0]):\n",
    "\n",
    "        if j in list(trca_gt['Address']):\n",
    "\n",
    "            #if j in list(hampton_gt['Address']):\n",
    "            print(j)\n",
    "\n",
    "            #FFH.loc[np.where(FFH.iloc[:,0]==j)[0],'GT']=trca_gt[trca_gt['Address']==j]['height'].iat[0]\n",
    "            FFH.loc[np.where(FFH.iloc[:,0]==j)[0],'GT']=np.multiply(10**-2,(mine_gt[mine_gt['Address']==j]['height-15 cm x number of stairs '].iat[0]))\n",
    "\n",
    "            #val_df.loc[idx_val,'FFH']=hampton_gt[hampton_gt['Address']==j]['FFH'].iat[0]\n",
    "\n",
    "            #val_df.loc[idx_val,'FFE']=hampton_gt[hampton_gt['Address']==j]['FFE'].iat[0]\n",
    "\n",
    "\n",
    "            #display(FFH)\n",
    "\n",
    "            #FFH.to_csv(f'D:/GSV/Initial_Results/FFH_TRCA_GTA_Low_FFH_fold_{i}.csv',index=False)"
   ]
  },
  {
   "cell_type": "code",
   "execution_count": null,
   "metadata": {},
   "outputs": [],
   "source": [
    "a='nafise'\n",
    "\n",
    "a.split('a')[0]"
   ]
  },
  {
   "cell_type": "code",
   "execution_count": null,
   "metadata": {},
   "outputs": [],
   "source": []
  }
 ],
 "metadata": {
  "kernelspec": {
   "display_name": "Python 3",
   "language": "python",
   "name": "python3"
  },
  "language_info": {
   "codemirror_mode": {
    "name": "ipython",
    "version": 3
   },
   "file_extension": ".py",
   "mimetype": "text/x-python",
   "name": "python",
   "nbconvert_exporter": "python",
   "pygments_lexer": "ipython3",
   "version": "3.6.13"
  }
 },
 "nbformat": 4,
 "nbformat_minor": 2
}
