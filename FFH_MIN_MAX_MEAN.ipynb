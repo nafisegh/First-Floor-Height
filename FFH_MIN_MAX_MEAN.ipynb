{
 "cells": [
  {
   "cell_type": "markdown",
   "id": "c6c00cf9",
   "metadata": {},
   "source": [
    "# Extracting CSV File"
   ]
  },
  {
   "cell_type": "code",
   "execution_count": 35,
   "id": "f4a678ee",
   "metadata": {},
   "outputs": [
    {
     "name": "stdout",
     "output_type": "stream",
     "text": [
      "['2952 Sandfiddler Rd', '3344 Sandfiddler Rd', '30 W Pollux Circle ', '517 Gills Place', '2904 Sandfiddler Road', '1611 Dandy Loop Rd', '4397 Landfall Drive', '2013 Liverpool St ', '515 West Second Avenue', '1745 Rockwood Drive', '606 Kanawah Run', '209 South Main Street', '3767 Surry Rd', '3740 Chesterfield Ave', '105 East Second Avenue', '1032 Calloway Avenue', '201 Shirley Rd', '64 Linden Avenue', '3245 Sandpiper Road', '318 Snowberry Lane', '26 Pennock St ', '1300 Dandy Loop Rd', '3744 Chesterfield Ave', '3742 Chesterfield Ave', '4407 County Street', '2324 Princess Anne Road', '103 Chaney Ct', '100 West Jackson Street', '4616 Columbia St ', '123 River Walk Ct', '2856 Sandfiddler Rd', '2552 Sandfiddler Rd', '2216 Sandfiddler Rd', '118 Rosemont ', '1812 Rockwood Drive', '2736 Sandfiddler Rd', '1916 Beechwood Road', '3737 Surry Rd', '119 Bradley Dr', '1057 Spratley St ', '603 Mansion Rd', '116 Earl St', '106 Overlook Pt', '2016 Back River Lane', '120 Discovery Lane', '2512 Robert Fenton Road', '174 Broad Street', '3340 Sandfiddler Rd', '1772 Rockwood Drive', '121B Welch Lane', '211 Estons Run', '100 East Fourth Avenue', '830 Lincoln Street', '2820 Bluebill Dr', '2908 Sand Bend Road', '125 Montrose', '106 West Fourth Avenue', '125 River Walk Ct', '205 Old Seaford Rd', '3248 Sandfiddler Rd', '502 Mansion Rd', '206 East Third Avenue', '4417 King Street ', '6325 Jonathans Cove Drive', '129 Montrose', '3676 Sandfiddler Rd', '1764 Rockwood Drive', '801 Dandy Loop Rd', '605 Mansion Rd', '122   124 Broad Street', '3746 Chesterfield Ave', '103 Raymond Dr', '517 Middle Street', '221 South Main Street', '120 Stillwater Lane', '1768 Rockwood Drive', '1856 Rockwood Drive', '3510 Sandfiddler Rd', '322 Snowberry Lane', '121A Welch Lane', '2207 Bayberry Street', '3408 Sandfiddler Rd', '2584 Sandfiddler Rd', '3710 Goodwin Neck Rd', '103 Osborn Lane', '201 West Fourth Avenue', '129 River Walk Ct', '4415 Landfall Drive', '2824 Wood Duck Dr', '129 Jamestown Avenue', '2616 Seaford Rd', '2816 Sandfiddler Road', '105 East Third Avenue', '5025 Winchester Dr ', '213 Crockett Rd', '3528 Sandfiddler Rd', '125 Shirley Road', '125 Mattaponi Trail', '107 West First Avenue', '2548 Robert Fenton Road', '103 Evergreen Cir', '100 Hansford Ct', '111 East Second Avenue', '2040 Back River Lane', '1808 Rockwood Drive', '2509 Robert Fenton Road', '2540 Robert Fenton Road', '7407 Wickham Ave', '1153 Bells Mill Road', '2032 Back River Lane', '101 Champions Path', '1857 Rockwood Drive', '1870 Rockwood Drive', '400 Claxton Creek Rd']\n"
     ]
    }
   ],
   "source": [
    "import glob\n",
    "\n",
    "path_hampton='//tsclient/C/Users/asus/Downloads/train_data_with_building_extent_Hampton.v1i.darknet/*/*.jpg'\n",
    "\n",
    "img_full_names=glob.glob(path_hampton)\n",
    "\n",
    "img_names=[os.path.basename(f) for f in img_full_names]\n",
    "\n",
    "img_names_=list(set([ff.replace('-',' ').split('_jpg')[0] for ff in img_names]))\n",
    "\n",
    "print(img_names_)"
   ]
  },
  {
   "cell_type": "code",
   "execution_count": 42,
   "id": "51847696",
   "metadata": {},
   "outputs": [],
   "source": [
    "import pandas as pd\n",
    "\n",
    "elev_certificate=pd.read_csv('//tsclient/D/GSV/Hampton_Roads_Elevation_Certificates_(NAVD_88).csv',usecols=['ADDRESS','LAT','LON']).dropna()\n",
    "\n",
    "addresses='|'.join(img_names_)\n",
    "\n",
    "df=elev_certificate[elev_certificate.ADDRESS.str.contains(addresses)]\n",
    "\n",
    "df.to_csv('//tsclient/D/GSV/Hampton_Roads_more_samples_new.csv')"
   ]
  },
  {
   "cell_type": "code",
   "execution_count": 26,
   "id": "cb84b43b",
   "metadata": {},
   "outputs": [
    {
     "name": "stderr",
     "output_type": "stream",
     "text": [
      "Downloading: \"https://github.com/ultralytics/yolov5/archive/master.zip\" to C:\\Users\\nghasem2/.cache\\torch\\hub\\master.zip\n",
      "YOLOv5  2022-7-2 Python-3.8.0 torch-1.11.0+cpu CPU\n",
      "\n",
      "Fusing layers... \n",
      "Model summary: 213 layers, 7020913 parameters, 0 gradients\n",
      "Adding AutoShape... \n"
     ]
    }
   ],
   "source": [
    "import pandas as pd\n",
    "\n",
    "import torch\n",
    "\n",
    "import os,glob\n",
    "\n",
    "\n",
    "def load_model(csv,path):\n",
    "\n",
    "    image_names=[os.path.basename(i) for i in glob.glob(path)]\n",
    "\n",
    "    image_names_=[j.replace('-',' ').split('_jpg',1)[0] for j in image_names]\n",
    "\n",
    "    pattern='|'.join(image_names_)\n",
    "\n",
    "    if any(csv.Address.str.contains(pattern))==True:\n",
    "\n",
    "       if 'High' in path:\n",
    "\n",
    "          model=torch.hub.load('ultralytics/yolov5','custom',force_reload=True,path='//tsclient/C/Users/asus/Downloads/High_FFH_run_combined_augmented/content/yolov5/runs/train/exp2/weights/best.pt') \n",
    "\n",
    "          csv_subset=csv[csv.Address.str.contains(pattern)]   \n",
    "            \n",
    "       elif 'Medium' in path:\n",
    "\n",
    "          model=torch.hub.load('ultralytics/yolov5','custom',force_reload=True,path='//tsclient/C/Users/asus/Downloads/Medium_FFH_run_combined_augmented/content/yolov5/runs/train/exp/weights/best.pt')\n",
    "\n",
    "          csv_subset=csv[csv.Address.str.contains(pattern)]\n",
    "        \n",
    "       elif 'Low'  in path:\n",
    "\n",
    "          model=torch.hub.load('ultralytics/yolov5','custom',force_reload=True,path='//tsclient/C/Users/asus/Downloads/Low_FFH_run_combined_augmented/content/yolov5/runs/train/exp2/weights/best.pt')  \n",
    "\n",
    "          csv_subset=csv[csv.Address.str.contains(pattern)]\n",
    "            \n",
    "            \n",
    "    return(model,csv_subset) \n",
    "            \n",
    "            \n",
    "test=pd.read_csv('//tsclient/F/Ontario Classified Point Cloud (Lidar-derived) - Greater Toronto Area (GTA), 2015 - Classified Point Cloud/TRCA_MIN_MAX_MEAN.csv')\n",
    "\n",
    "High_path_test='//tsclient/C/Users/asus/Downloads/High_FFH_TRAIN_2.v1i.yolov5pytorch/High_FFH_TRAIN_2.v1i.yolov5pytorch/test/images/*.jpg'\n",
    "\n",
    "#High_path_train='//tsclient/C/Users/asus/Downloads/High_FFH_TRAIN_2.v1i.yolov5pytorch/High_FFH_TRAIN_2.v1i.yolov5pytorch/train/images/*.jpg'\n",
    "\n",
    "#High_path_val='//tsclient/C/Users/asus/Downloads/High_FFH_TRAIN_2.v1i.yolov5pytorch/High_FFH_TRAIN_2.v1i.yolov5pytorch/valid/images/*.jpg'\n",
    "            \n",
    "\n",
    "#Medium_path=\n",
    "\n",
    "#Low_path=\n",
    "\n",
    "model,csv_subset=load_model(test,High_path_test)"
   ]
  },
  {
   "cell_type": "code",
   "execution_count": 25,
   "id": "65142a2c",
   "metadata": {},
   "outputs": [
    {
     "name": "stdout",
     "output_type": "stream",
     "text": [
      "    Unnamed: 0   FID                                      Address         MIN  \\\n",
      "4            4   5.0          218 Garden Ave  Toronto  ON M6R 1J1  276.720001   \n",
      "7            7   8.0       61 Palmerston Ave  Toronto  ON M6J 2J2  189.839996   \n",
      "9            9  10.0         204 Beverley St  Toronto  ON M5T 1Z1  190.093704   \n",
      "12          12  13.0             33 Major St  Toronto  ON M5S 2K9  222.250000   \n",
      "16          16  17.0         203 Gilmour Ave  Toronto  ON M6P 3B2  221.979996   \n",
      "18          18  19.0         168 St Johns Rd  Toronto  ON M6P 1T9  221.690002   \n",
      "20          20  21.0          28 Winners Cir  Toronto  ON M4L 3Z7  221.820007   \n",
      "21          21  22.0        705 Spadina Ave   Toronto  ON M5S 2J4  221.750000   \n",
      "24          24  25.0           282 Salem Ave  Toronto  ON M6H 3C7  190.399994   \n",
      "28          28  29.0          39 Richard Ave  Toronto  ON M4L 1W8  224.970001   \n",
      "30          30  31.0           536 Dupont St  Toronto  ON M6G 1Y9  126.080002   \n",
      "35          35  36.0  43 Glen Davis Crescent  Toronto  ON M4E 1X6  118.230003   \n",
      "38          38  39.0            10 Wellwood Ave  York  ON M6C 1G9   96.320000   \n",
      "40          40  42.0             299 Glen Rd  Toronto  ON M4W 2X4  115.395584   \n",
      "42          42  44.0         246 Floyd Ave  East York  ON M4J 2J3  113.931023   \n",
      "43          43  45.0          170 Heath St W  Toronto  ON M4V 3B8   96.110001   \n",
      "45          45  47.0       194 Torrens Ave  East York  ON M4J 2P5  118.760002   \n",
      "47          47  49.0      36 Willowbank Blvd  Toronto  ON M4R 1B6  165.481140   \n",
      "48          48  50.0      55 Castlefield Ave  Toronto  ON M4R 1G5   84.099998   \n",
      "49          49  51.0     37 Ann Arbour Rd  North York  ON M9M 2J5  106.763519   \n",
      "50          50  52.0        85 Gaydon Ave  North York  ON M9M 1G8  112.690086   \n",
      "57          57  59.0                             201 CHARLTON AVE  147.765915   \n",
      "58          58  60.0          133 Euclid Ave  Toronto  ON M6J 2J8  130.320007   \n",
      "70          70  72.0                       207 VELLORE WOODS BLVD  119.214638   \n",
      "72          72  74.0                               53 BERRY TRAIL  124.790001   \n",
      "75          75  78.0                             133 ROYVIEW CRES   94.123688   \n",
      "80          80  84.0                                244 CEDAR AVE  120.089996   \n",
      "\n",
      "           MAX        MEAN  \n",
      "4   290.709992  284.303062  \n",
      "7   197.302963  194.848704  \n",
      "9   197.809998  195.722642  \n",
      "12  231.686523  227.472200  \n",
      "16  232.020004  228.650014  \n",
      "18  231.779999  228.256741  \n",
      "20  231.553146  228.392113  \n",
      "21  231.809998  228.015055  \n",
      "24  198.240005  196.432286  \n",
      "28  237.517960  229.801776  \n",
      "30  135.774429  130.750314  \n",
      "35  128.460007  125.249140  \n",
      "38  105.489998  102.537401  \n",
      "40  118.237129  118.173396  \n",
      "42  117.093407  114.191833  \n",
      "43  104.904724  103.076223  \n",
      "45  129.880005  126.338707  \n",
      "47  167.707840  166.552497  \n",
      "48  433.600006  312.764816  \n",
      "49  106.967659  106.866550  \n",
      "50  123.669998  117.657531  \n",
      "57  158.621658  150.210111  \n",
      "58  140.703964  138.183776  \n",
      "70  119.427551  119.324103  \n",
      "72  135.160004  133.285682  \n",
      "75   95.513054   94.592302  \n",
      "80  125.010002  123.489306  \n"
     ]
    }
   ],
   "source": [
    "print(csv_subset)"
   ]
  },
  {
   "cell_type": "code",
   "execution_count": 27,
   "id": "c78d516c",
   "metadata": {},
   "outputs": [
    {
     "name": "stdout",
     "output_type": "stream",
     "text": [
      "    Unnamed: 0   FID                                      Address         MIN  \\\n",
      "4            4   5.0          218 Garden Ave  Toronto  ON M6R 1J1  276.720001   \n",
      "12          12  13.0             33 Major St  Toronto  ON M5S 2K9  222.250000   \n",
      "16          16  17.0         203 Gilmour Ave  Toronto  ON M6P 3B2  221.979996   \n",
      "18          18  19.0         168 St Johns Rd  Toronto  ON M6P 1T9  221.690002   \n",
      "21          21  22.0        705 Spadina Ave   Toronto  ON M5S 2J4  221.750000   \n",
      "28          28  29.0          39 Richard Ave  Toronto  ON M4L 1W8  224.970001   \n",
      "32          32  33.0        624 Davenport Rd  Toronto  ON M5R 1K9  135.399994   \n",
      "35          35  36.0  43 Glen Davis Crescent  Toronto  ON M4E 1X6  118.230003   \n",
      "38          38  39.0            10 Wellwood Ave  York  ON M6C 1G9   96.320000   \n",
      "41          41  43.0            6 Astley Ave  Toronto  ON M4W 3B4  117.775017   \n",
      "42          42  44.0         246 Floyd Ave  East York  ON M4J 2J3  113.931023   \n",
      "43          43  45.0          170 Heath St W  Toronto  ON M4V 3B8   96.110001   \n",
      "45          45  47.0       194 Torrens Ave  East York  ON M4J 2P5  118.760002   \n",
      "47          47  49.0      36 Willowbank Blvd  Toronto  ON M4R 1B6  165.481140   \n",
      "50          50  52.0        85 Gaydon Ave  North York  ON M9M 1G8  112.690086   \n",
      "58          58  60.0          133 Euclid Ave  Toronto  ON M6J 2J8  130.320007   \n",
      "63          63  65.0                                12 WHITE BLVD  185.360001   \n",
      "65          65  67.0                                12 WHITE BLVD   82.500000   \n",
      "66          66  68.0                          1857 Rockwood Drive  124.760002   \n",
      "80          80  84.0                                244 CEDAR AVE  120.089996   \n",
      "\n",
      "           MAX        MEAN  \n",
      "4   290.709992  284.303062  \n",
      "12  231.686523  227.472200  \n",
      "16  232.020004  228.650014  \n",
      "18  231.779999  228.256741  \n",
      "21  231.809998  228.015055  \n",
      "28  237.517960  229.801776  \n",
      "32  141.470001  139.269428  \n",
      "35  128.460007  125.249140  \n",
      "38  105.489998  102.537401  \n",
      "41  117.840706  117.807866  \n",
      "42  117.093407  114.191833  \n",
      "43  104.904724  103.076223  \n",
      "45  129.880005  126.338707  \n",
      "47  167.707840  166.552497  \n",
      "50  123.669998  117.657531  \n",
      "58  140.703964  138.183776  \n",
      "63  194.539993  192.058889  \n",
      "65   98.290001   89.874047  \n",
      "66  135.548492  131.912250  \n",
      "80  125.010002  123.489306  \n"
     ]
    }
   ],
   "source": [
    "print(csv_subset)"
   ]
  },
  {
   "cell_type": "code",
   "execution_count": null,
   "id": "e9e328d9",
   "metadata": {},
   "outputs": [],
   "source": []
  }
 ],
 "metadata": {
  "kernelspec": {
   "display_name": "Python 3 (ipykernel)",
   "language": "python",
   "name": "python3"
  },
  "language_info": {
   "codemirror_mode": {
    "name": "ipython",
    "version": 3
   },
   "file_extension": ".py",
   "mimetype": "text/x-python",
   "name": "python",
   "nbconvert_exporter": "python",
   "pygments_lexer": "ipython3",
   "version": "3.8.0"
  }
 },
 "nbformat": 4,
 "nbformat_minor": 5
}
